{
 "cells": [
  {
   "cell_type": "code",
   "execution_count": 26,
   "metadata": {},
   "outputs": [],
   "source": [
    "from flask import Flask, render_template, redirect, jsonify\n",
    "from sqlalchemy import create_engine\n",
    "import sqlalchemy as db"
   ]
  },
  {
   "cell_type": "code",
   "execution_count": 38,
   "metadata": {},
   "outputs": [],
   "source": [
    "connection_string = \"postgres:sealab2021@dvgroup1.c0yvlavqskus.us-west-2.rds.amazonaws.com:5432/project2\"\n",
    "engine = db.create_engine(f'postgresql://{connection_string}')\n"
   ]
  },
  {
   "cell_type": "code",
   "execution_count": 37,
   "metadata": {},
   "outputs": [
    {
     "data": {
      "text/plain": [
       "['trails', 'routes', 'dispensaries']"
      ]
     },
     "execution_count": 37,
     "metadata": {},
     "output_type": "execute_result"
    }
   ],
   "source": [
    "engine.table_names()"
   ]
  },
  {
   "cell_type": "code",
   "execution_count": 45,
   "metadata": {},
   "outputs": [],
   "source": [
    "connection = engine.connect()\n",
    "metadata = db.MetaData()\n"
   ]
  },
  {
   "cell_type": "code",
   "execution_count": 83,
   "metadata": {},
   "outputs": [],
   "source": [
    "table = db.Table('trails', metadata, autoload = True, autoload_with=engine)"
   ]
  },
  {
   "cell_type": "code",
   "execution_count": 84,
   "metadata": {},
   "outputs": [
    {
     "data": {
      "text/plain": [
       "['city',\n",
       " 'id',\n",
       " 'name',\n",
       " 'type',\n",
       " 'summary',\n",
       " 'difficulty',\n",
       " 'stars',\n",
       " 'starVotes',\n",
       " 'location',\n",
       " 'url',\n",
       " 'imgSqSmall',\n",
       " 'imgSmall',\n",
       " 'imgSmallMed',\n",
       " 'imgMedium',\n",
       " 'length',\n",
       " 'ascent',\n",
       " 'descent',\n",
       " 'high',\n",
       " 'low',\n",
       " 'longitude',\n",
       " 'latitude',\n",
       " 'conditionStatus',\n",
       " 'conditionDetails',\n",
       " 'conditionDate']"
      ]
     },
     "execution_count": 84,
     "metadata": {},
     "output_type": "execute_result"
    }
   ],
   "source": [
    "table.columns.keys()"
   ]
  },
  {
   "cell_type": "code",
   "execution_count": 91,
   "metadata": {},
   "outputs": [],
   "source": [
    "query = db.select([table]).where(table.columns.name == 'Fiery Gizzard')\n"
   ]
  },
  {
   "cell_type": "code",
   "execution_count": 92,
   "metadata": {},
   "outputs": [],
   "source": [
    "result = connection.execute(query)"
   ]
  },
  {
   "cell_type": "code",
   "execution_count": 93,
   "metadata": {},
   "outputs": [],
   "source": [
    "resultSet = result.fetchall()"
   ]
  },
  {
   "cell_type": "code",
   "execution_count": 94,
   "metadata": {},
   "outputs": [
    {
     "data": {
      "text/plain": [
       "[('Sand Rock', 7016968, 'Fiery Gizzard', 'Recommended Route', 'A strenuous, 12.5 mile, one-way trail that is considered one of the top 25 trails in the US.', 'black', 4.9, 35.0, 'Tracy City, Tennessee', 'https://www.hikingproject.com/trail/7016968/fiery-gizzard', 'https://cdn2.apstatic.com/photos/hike/7014921_sqsmall_1554825558.jpg', 'https://cdn2.apstatic.com/photos/hike/7014921_small_1554825558.jpg', 'https://cdn2.apstatic.com/photos/hike/7014921_smallMed_1554825558.jpg', 'https://cdn2.apstatic.com/photos/hike/7014921_medium_1554825558.jpg', 12.2, 1097.0, -979.0, 1878.0, 1385.0, -85.6739, 35.1824, 'Unknown', None, datetime.datetime(1970, 1, 1, 0, 0)),\n",
       " ('Jamestown', 7016968, 'Fiery Gizzard', 'Recommended Route', 'A strenuous, 12.5 mile, one-way trail that is considered one of the top 25 trails in the US.', 'black', 4.9, 35.0, 'Tracy City, Tennessee', 'https://www.hikingproject.com/trail/7016968/fiery-gizzard', 'https://cdn2.apstatic.com/photos/hike/7014921_sqsmall_1554825558.jpg', 'https://cdn2.apstatic.com/photos/hike/7014921_small_1554825558.jpg', 'https://cdn2.apstatic.com/photos/hike/7014921_smallMed_1554825558.jpg', 'https://cdn2.apstatic.com/photos/hike/7014921_medium_1554825558.jpg', 12.2, 1097.0, -979.0, 1878.0, 1385.0, -85.6739, 35.1824, 'Unknown', None, datetime.datetime(1970, 1, 1, 0, 0)),\n",
       " ('Palisades Park', 7016968, 'Fiery Gizzard', 'Recommended Route', 'A strenuous, 12.5 mile, one-way trail that is considered one of the top 25 trails in the US.', 'black', 4.9, 35.0, 'Tracy City, Tennessee', 'https://www.hikingproject.com/trail/7016968/fiery-gizzard', 'https://cdn2.apstatic.com/photos/hike/7014921_sqsmall_1554825558.jpg', 'https://cdn2.apstatic.com/photos/hike/7014921_small_1554825558.jpg', 'https://cdn2.apstatic.com/photos/hike/7014921_smallMed_1554825558.jpg', 'https://cdn2.apstatic.com/photos/hike/7014921_medium_1554825558.jpg', 12.2, 1097.0, -979.0, 1878.0, 1385.0, -85.6739, 35.1824, 'Unknown', None, datetime.datetime(1970, 1, 1, 0, 0)),\n",
       " ('Lost Wall', 7016968, 'Fiery Gizzard', 'Recommended Route', 'A strenuous, 12.5 mile, one-way trail that is considered one of the top 25 trails in the US.', 'black', 4.9, 35.0, 'Tracy City, Tennessee', 'https://www.hikingproject.com/trail/7016968/fiery-gizzard', 'https://cdn2.apstatic.com/photos/hike/7014921_sqsmall_1554825558.jpg', 'https://cdn2.apstatic.com/photos/hike/7014921_small_1554825558.jpg', 'https://cdn2.apstatic.com/photos/hike/7014921_smallMed_1554825558.jpg', 'https://cdn2.apstatic.com/photos/hike/7014921_medium_1554825558.jpg', 12.2, 1097.0, -979.0, 1878.0, 1385.0, -85.6739, 35.1824, 'Unknown', None, datetime.datetime(1970, 1, 1, 0, 0)),\n",
       " ('The Tennessee Wall', 7016968, 'Fiery Gizzard', 'Recommended Route', 'A strenuous, 12.5 mile, one-way trail that is considered one of the top 25 trails in the US.', 'black', 4.9, 35.0, 'Tracy City, Tennessee', 'https://www.hikingproject.com/trail/7016968/fiery-gizzard', 'https://cdn2.apstatic.com/photos/hike/7014921_sqsmall_1554825558.jpg', 'https://cdn2.apstatic.com/photos/hike/7014921_small_1554825558.jpg', 'https://cdn2.apstatic.com/photos/hike/7014921_smallMed_1554825558.jpg', 'https://cdn2.apstatic.com/photos/hike/7014921_medium_1554825558.jpg', 12.2, 1097.0, -979.0, 1878.0, 1385.0, -85.6739, 35.1824, 'Unknown', None, datetime.datetime(1970, 1, 1, 0, 0)),\n",
       " ('Foster Falls', 7016968, 'Fiery Gizzard', 'Recommended Route', 'A strenuous, 12.5 mile, one-way trail that is considered one of the top 25 trails in the US.', 'black', 4.9, 35.0, 'Tracy City, Tennessee', 'https://www.hikingproject.com/trail/7016968/fiery-gizzard', 'https://cdn2.apstatic.com/photos/hike/7014921_sqsmall_1554825558.jpg', 'https://cdn2.apstatic.com/photos/hike/7014921_small_1554825558.jpg', 'https://cdn2.apstatic.com/photos/hike/7014921_smallMed_1554825558.jpg', 'https://cdn2.apstatic.com/photos/hike/7014921_medium_1554825558.jpg', 12.2, 1097.0, -979.0, 1878.0, 1385.0, -85.6739, 35.1824, 'Unknown', None, datetime.datetime(1970, 1, 1, 0, 0)),\n",
       " ('Sunset Park', 7016968, 'Fiery Gizzard', 'Recommended Route', 'A strenuous, 12.5 mile, one-way trail that is considered one of the top 25 trails in the US.', 'black', 4.9, 35.0, 'Tracy City, Tennessee', 'https://www.hikingproject.com/trail/7016968/fiery-gizzard', 'https://cdn2.apstatic.com/photos/hike/7014921_sqsmall_1554825558.jpg', 'https://cdn2.apstatic.com/photos/hike/7014921_small_1554825558.jpg', 'https://cdn2.apstatic.com/photos/hike/7014921_smallMed_1554825558.jpg', 'https://cdn2.apstatic.com/photos/hike/7014921_medium_1554825558.jpg', 12.2, 1097.0, -979.0, 1878.0, 1385.0, -85.6739, 35.1824, 'Unknown', None, datetime.datetime(1970, 1, 1, 0, 0))]"
      ]
     },
     "execution_count": 94,
     "metadata": {},
     "output_type": "execute_result"
    }
   ],
   "source": [
    "resultSet"
   ]
  },
  {
   "cell_type": "code",
   "execution_count": null,
   "metadata": {},
   "outputs": [],
   "source": []
  }
 ],
 "metadata": {
  "kernelspec": {
   "display_name": "Python 3",
   "language": "python",
   "name": "python3"
  },
  "language_info": {
   "codemirror_mode": {
    "name": "ipython",
    "version": 3
   },
   "file_extension": ".py",
   "mimetype": "text/x-python",
   "name": "python",
   "nbconvert_exporter": "python",
   "pygments_lexer": "ipython3",
   "version": "3.8.3"
  }
 },
 "nbformat": 4,
 "nbformat_minor": 4
}
